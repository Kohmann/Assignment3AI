{
 "cells": [
  {
   "cell_type": "code",
   "execution_count": 173,
   "metadata": {},
   "outputs": [],
   "source": [
    "import numpy as np"
   ]
  },
  {
   "cell_type": "code",
   "execution_count": 349,
   "metadata": {},
   "outputs": [],
   "source": [
    "def Prediction(S):\n",
    "\n",
    "    # Statespace\n",
    "    states = [\"Happy\",\"Sad\"] \n",
    "    # Initial matrix\n",
    "    initialMatrix = [0.6, 0.4]\n",
    "    # Possible sequences of events\n",
    "    transitionName = [[\"HH\",\"SH\"],[\"SH\",\"SS\"]]\n",
    "    transitionMatrix = np.array([initialMatrix, [0.9, 0.1], [0.2, 0.8]])\n",
    "    # Observations\n",
    "    observationName = { \"CO\": 0,\"CR\": 1,\"SL\": 2,\"SO\":3,\"W\":4 }\n",
    "    observationMatrix = np.array([[0.1, 0.3], [0.2, 0], [0.4, 0.3], [0, 0.3], [0.3, 0.1]]) # Obeservation matrix\n",
    "    \"\"\"\n",
    "    initialMatrix = [0.6, 0.4]\n",
    "    transitionMatrix = np.array([initialMatrix, [0.7, 0.3], [0.4, 0.6]])\n",
    "    observationName = { \"v1\": 0,\"v2\": 1,\"v3\": 2 }\n",
    "    observationMatrix = np.array([[0.1, 0.7], [0.4, 0.2], [0.5, 0.1]]) # Obeservation matrix\n",
    "    \"\"\"\n",
    "        \n",
    "    prob = [transitionMatrix[0]]\n",
    "    for i in range(len(S)):                              \n",
    "        prob.append(np.dot(prob[-1], transitionMatrix[1:]) * observationMatrix[observationName[S[i]]]) # probability of begin [happy, sad]\n",
    "\n",
    "    return np.array(prob)\n",
    "        "
   ]
  },
  {
   "cell_type": "code",
   "execution_count": 351,
   "metadata": {},
   "outputs": [
    {
     "name": "stdout",
     "output_type": "stream",
     "text": [
      "Activity   P(Happy) \t P(Sad)\n",
      "SO \t   0.000000 \t 0.114000 \n",
      "SO \t   0.000000 \t 0.027360 \n",
      "CO \t   0.000547 \t 0.006566 \n",
      "W \t   0.000542 \t 0.000531 \n",
      "SL \t   0.000237 \t 0.000144 \n"
     ]
    }
   ],
   "source": [
    "sequence = [\"SO\",\"SO\",\"CO\",\"W\",\"SL\"]\n",
    "#sequence = [\"v2\",\"v3\",\"v1\", \"v2\"]\n",
    "probability = Prediction(sequence)\n",
    "\n",
    "prob = np.round(probability[1:],7)\n",
    "print(\"Activity   P(Happy) \\t P(Sad)\")\n",
    "for i in range(len(sequence)):\n",
    "    print(sequence[i],\"\\t   %f \\t %f \" % (prob[i][0], prob[i][1]))\n",
    "\n",
    "\n"
   ]
  },
  {
   "cell_type": "code",
   "execution_count": null,
   "metadata": {},
   "outputs": [],
   "source": []
  },
  {
   "cell_type": "code",
   "execution_count": null,
   "metadata": {},
   "outputs": [],
   "source": []
  }
 ],
 "metadata": {
  "kernelspec": {
   "display_name": "Python 3",
   "language": "python",
   "name": "python3"
  },
  "language_info": {
   "codemirror_mode": {
    "name": "ipython",
    "version": 3
   },
   "file_extension": ".py",
   "mimetype": "text/x-python",
   "name": "python",
   "nbconvert_exporter": "python",
   "pygments_lexer": "ipython3",
   "version": "3.7.0"
  }
 },
 "nbformat": 4,
 "nbformat_minor": 4
}
