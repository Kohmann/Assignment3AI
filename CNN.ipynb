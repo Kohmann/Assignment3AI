{
 "cells": [
  {
   "cell_type": "code",
   "execution_count": 99,
   "metadata": {},
   "outputs": [],
   "source": [
    "import numpy as np\n",
    "from STL10 import read_all_images, read_labels\n",
    "import tensorflow as tf\n",
    "import matplotlib.pyplot as plt\n",
    "from skimage.feature import hog"
   ]
  },
  {
   "cell_type": "code",
   "execution_count": 100,
   "metadata": {},
   "outputs": [
    {
     "name": "stdout",
     "output_type": "stream",
     "text": [
      "raw: (5000, 96, 96, 3) (8000, 96, 96, 3)\n",
      "hog: (5000, 96, 96) (8000, 96, 96)\n"
     ]
    }
   ],
   "source": [
    " # General data\n",
    "X_train_imgs = read_all_images(\"stl10_binary/train_X.bin\")\n",
    "y_train = read_labels(\"stl10_binary/train_y.bin\")\n",
    "\n",
    "X_test_imgs = read_all_images(\"stl10_binary/test_X.bin\")\n",
    "y_test = read_labels(\"stl10_binary/test_y.bin\")\n",
    "\n",
    " # Raw pixel values\n",
    "X_train_raw = X_train_imgs/ 255\n",
    "X_test_raw  = X_test_imgs / 255\n",
    "\n",
    "print(\"raw:\", X_train_raw.shape, X_test_raw.shape)\n",
    "\n",
    " # HoG\n",
    "X_train_hog = []\n",
    "X_test_hog = []\n",
    "\n",
    "for img in X_train_imgs:\n",
    "    desc, hogImg = hog(img, orientations=8, pixels_per_cell=(16, 16), cells_per_block=(1, 1), visualize=True, multichannel=True)\n",
    "    X_train_hog.append(hogImg )\n",
    "\n",
    "\n",
    "for img in X_test_imgs:\n",
    "    desc, hogImg = hog(img, orientations=8, pixels_per_cell=(16, 16), cells_per_block=(1, 1), visualize=True, multichannel=True)\n",
    "    X_test_hog.append(hogImg)\n",
    "\n",
    "X_train_hog = np.array(X_train_hog)\n",
    "X_test_hog = np.array(X_test_hog)\n",
    "    \n",
    "X_train_hog_3d = np.zeros([X_train_hog.shape[0],X_train_hog.shape[1],X_train_hog.shape[2],1])\n",
    "X_test_hog_3d = np.zeros([X_test_hog.shape[0],X_test_hog.shape[1],X_test_hog.shape[2],1])\n",
    "\n",
    "X_train_hog_3d[:,:,:,0] = X_train_hog\n",
    "X_test_hog_3d[:,:,:,0] = X_test_hog\n",
    "\n",
    "X_train_hog_3d = X_train_hog_3d / X_train_hog_3d.max()\n",
    "X_test_hog_3d = X_test_hog_3d / X_test_hog_3d.max()\n",
    "\n",
    "print(\"hog:\", X_train_hog.shape, X_test_hog.shape)\n",
    "\n",
    "\n",
    " # Labels\n",
    "\n",
    "num_categories = 10\n",
    "y_train = tf.keras.utils.to_categorical(y_train-1, num_categories)\n",
    "y_test = tf.keras.utils.to_categorical(y_test-1, num_categories)\n",
    "\n"
   ]
  },
  {
   "cell_type": "code",
   "execution_count": 101,
   "metadata": {},
   "outputs": [],
   "source": [
    "def trainTestModel(X_trn, y_trn, X_tst, y_tst, steps):\n",
    "    if len(X_trn.shape) == 4:\n",
    "        shape = ( X_trn.shape[1], X_trn.shape[2], X_trn.shape[3] )\n",
    "    elif len(X_trn.shape) == 3:\n",
    "        shape = ( X_trn.shape[1], X_trn.shape[2], 1)\n",
    "    else:\n",
    "        return print(\"X_train shape must be 4 or 2 dimensions\")\n",
    "        \n",
    "    model = tf.keras.Sequential([\n",
    "        tf.keras.layers.Conv2D(16, (3, 3), activation='relu', input_shape=shape),\n",
    "        tf.keras.layers.Conv2D(64, (3, 3), activation='relu'),\n",
    "        tf.keras.layers.Flatten(),\n",
    "        tf.keras.layers.Dense(10, activation='softmax')\n",
    "    ])\n",
    "\n",
    "    #model.summary()\n",
    "    model.compile(loss='categorical_crossentropy', metrics=['accuracy'])\n",
    "\n",
    "    history = model.fit(X_trn, y_trn, epochs=steps, verbose=1, validation_data=(X_tst, y_tst))\n",
    "    #test_loss, test_acc = model.evaluate(X_tst,  y_tst, verbose=1, steps=steps)\n",
    "    return history\n"
   ]
  },
  {
   "cell_type": "code",
   "execution_count": 102,
   "metadata": {},
   "outputs": [],
   "source": [
    "steps = 4"
   ]
  },
  {
   "cell_type": "code",
   "execution_count": 103,
   "metadata": {
    "scrolled": true
   },
   "outputs": [
    {
     "name": "stdout",
     "output_type": "stream",
     "text": [
      "Epoch 1/4\n",
      "157/157 [==============================] - 67s 426ms/step - loss: 4.4672 - accuracy: 0.3184 - val_loss: 1.7076 - val_accuracy: 0.3794\n",
      "Epoch 2/4\n",
      "157/157 [==============================] - 75s 479ms/step - loss: 1.1130 - accuracy: 0.6436 - val_loss: 1.4391 - val_accuracy: 0.4972\n",
      "Epoch 3/4\n",
      "157/157 [==============================] - 68s 431ms/step - loss: 0.4863 - accuracy: 0.8714 - val_loss: 2.1127 - val_accuracy: 0.4420\n",
      "Epoch 4/4\n",
      "157/157 [==============================] - 77s 493ms/step - loss: 0.1641 - accuracy: 0.9594 - val_loss: 4.2260 - val_accuracy: 0.3451\n"
     ]
    },
    {
     "data": {
      "text/plain": [
       "<tensorflow.python.keras.callbacks.History at 0x7fbb99c71588>"
      ]
     },
     "execution_count": 103,
     "metadata": {},
     "output_type": "execute_result"
    }
   ],
   "source": [
    " # Raw\n",
    "trainTestModel(X_train_raw, y_train, X_test_raw, y_test, steps)"
   ]
  },
  {
   "cell_type": "code",
   "execution_count": 104,
   "metadata": {},
   "outputs": [
    {
     "name": "stdout",
     "output_type": "stream",
     "text": [
      "Epoch 1/4\n",
      "157/157 [==============================] - 64s 408ms/step - loss: 1.5610 - accuracy: 0.4414 - val_loss: 1.5889 - val_accuracy: 0.4849\n",
      "Epoch 2/4\n",
      "157/157 [==============================] - 62s 397ms/step - loss: 1.1893 - accuracy: 0.5752 - val_loss: 1.7775 - val_accuracy: 0.4350\n",
      "Epoch 3/4\n",
      "157/157 [==============================] - 62s 395ms/step - loss: 1.0592 - accuracy: 0.6338 - val_loss: 1.3941 - val_accuracy: 0.5274\n",
      "Epoch 4/4\n",
      "157/157 [==============================] - 59s 379ms/step - loss: 0.9584 - accuracy: 0.6708 - val_loss: 1.4444 - val_accuracy: 0.5479\n"
     ]
    },
    {
     "data": {
      "text/plain": [
       "<tensorflow.python.keras.callbacks.History at 0x7fbb98292c88>"
      ]
     },
     "execution_count": 104,
     "metadata": {},
     "output_type": "execute_result"
    }
   ],
   "source": [
    " # HoG\n",
    "trainTestModel(X_train_hog_3d, y_train, X_test_hog_3d, y_test, steps)"
   ]
  },
  {
   "cell_type": "code",
   "execution_count": null,
   "metadata": {},
   "outputs": [],
   "source": []
  }
 ],
 "metadata": {
  "kernelspec": {
   "display_name": "Python 3",
   "language": "python",
   "name": "python3"
  },
  "language_info": {
   "codemirror_mode": {
    "name": "ipython",
    "version": 3
   },
   "file_extension": ".py",
   "mimetype": "text/x-python",
   "name": "python",
   "nbconvert_exporter": "python",
   "pygments_lexer": "ipython3",
   "version": "3.7.0"
  }
 },
 "nbformat": 4,
 "nbformat_minor": 4
}
