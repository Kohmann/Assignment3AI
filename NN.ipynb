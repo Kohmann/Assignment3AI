{
 "cells": [
  {
   "cell_type": "code",
   "execution_count": null,
   "metadata": {},
   "outputs": [],
   "source": [
    "import numpy as np\n",
    "from STL10 import read_all_images, read_labels\n",
    "import tensorflow as tf\n",
    "import matplotlib.pyplot as plt\n",
    "from skimage.feature import hog, local_binary_pattern"
   ]
  },
  {
   "cell_type": "code",
   "execution_count": null,
   "metadata": {},
   "outputs": [],
   "source": [
    " # General data\n",
    "X_train_imgs = read_all_images(\"stl10_binary/train_X.bin\")\n",
    "y_train = read_labels(\"stl10_binary/train_y.bin\")\n",
    "\n",
    "X_test_imgs = read_all_images(\"stl10_binary/test_X.bin\")\n",
    "y_test = read_labels(\"stl10_binary/test_y.bin\")\n",
    "\n",
    "\n",
    " # Raw pixel values\n",
    "X_train_raw = X_train_imgs[:,:,:,0].reshape( (X_train_imgs.shape[0], X_train_imgs.shape[1] * X_train_imgs.shape[2]) )\n",
    "X_test_raw  = X_test_imgs[:,:,:,0].reshape(  (X_test_imgs.shape[0],   X_test_imgs.shape[1] * X_test_imgs.shape[2]) ) \n",
    "\n",
    "print(\"raw:\", X_train_raw.shape, X_test_raw.shape)\n",
    "\n",
    "\n",
    " # Hog & LBP\n",
    "radius = 3\n",
    "n_points = 8 * radius    \n",
    "\n",
    "X_train_hog = []\n",
    "X_test_hog = []\n",
    "X_train_lbp = []\n",
    "X_test_lbp = []\n",
    "\n",
    "for img in X_train_imgs[:,:,:,0]:\n",
    "    X_train_hog.append(hog(img, orientations=8, pixels_per_cell=(16, 16), cells_per_block=(1, 1), visualize=False, multichannel=False))\n",
    "    X_train_lbp.append(local_binary_pattern(img, n_points, radius, method='default'))\n",
    "\n",
    "    \n",
    "for img in X_test_imgs[:,:,:,0]:\n",
    "    X_test_hog.append(hog(img, orientations=8, pixels_per_cell=(16, 16), cells_per_block=(1, 1), visualize=False, multichannel=False))\n",
    "    X_test_lbp.append(local_binary_pattern(img, n_points, radius, method='default'))    \n",
    "\n",
    "X_train_hog = np.array(X_train_hog) / np.max(X_train_hog)\n",
    "X_test_hog = np.array(X_test_hog) /np.max(X_test_hog)\n",
    "\n",
    "X_train_lbp = np.array(X_train_lbp) / np.max(X_train_lbp)\n",
    "X_test_lbp  = np.array(X_test_lbp) / np.max(X_test_lbp)\n",
    "\n",
    "X_train_lbp = X_train_lbp.reshape(X_train_lbp.shape[0], X_train_lbp.shape[1]*X_train_lbp.shape[2] ) \n",
    "X_test_lbp  = X_test_lbp.reshape(X_test_lbp.shape[0], X_test_lbp.shape[1]*X_test_lbp.shape[2] )\n",
    "\n",
    "print(\"hog:\", X_train_hog.shape, X_test_hog.shape)\n",
    "print(\"lbp:\", X_train_lbp.shape, X_test_lbp.shape)\n",
    "\n",
    " # Labels\n",
    "\n",
    "num_categories = 10\n",
    "y_train = tf.keras.utils.to_categorical(y_train-1, num_categories)\n",
    "y_test = tf.keras.utils.to_categorical(y_test-1, num_categories)\n",
    "\n"
   ]
  },
  {
   "cell_type": "code",
   "execution_count": 164,
   "metadata": {},
   "outputs": [],
   "source": [
    "def trainTestModel(X_trn, y_trn, X_tst, y_tst, steps, nodes):\n",
    "        \n",
    "    model = tf.keras.Sequential([\n",
    "        tf.keras.layers.Dense(units = nodes, activation='sigmoid', input_shape=(X_trn.shape[1],)),\n",
    "        tf.keras.layers.Dense(units = nodes, activation='tanh'),\n",
    "        tf.keras.layers.Dense(units = 10, activation=\"softmax\") \n",
    "    ])\n",
    "    #model.summary()\n",
    "    model.compile(loss='categorical_crossentropy', metrics=['accuracy'])\n",
    "\n",
    "    history = model.fit(X_trn, y_trn, epochs=steps, verbose=0)\n",
    "    model.evaluate(X_tst,  y_tst, verbose=1, steps=steps)\n",
    "\n"
   ]
  },
  {
   "cell_type": "code",
   "execution_count": 159,
   "metadata": {},
   "outputs": [],
   "source": [
    "nodes = [10,25,50]\n",
    "steps = [10,25,50]"
   ]
  },
  {
   "cell_type": "code",
   "execution_count": null,
   "metadata": {},
   "outputs": [],
   "source": [
    " # Raw\n",
    "for s in steps:\n",
    "    for i in nodes:\n",
    "        trainTestModel(X_train_raw, y_train, X_test_raw, y_test, s, i)\n",
    "        print(\"Nodes= %d, Epochs = %d,  softmax, tanh and sigmoid \" % (i,s))\n"
   ]
  },
  {
   "cell_type": "code",
   "execution_count": 167,
   "metadata": {},
   "outputs": [
    {
     "name": "stdout",
     "output_type": "stream",
     "text": [
      "10/10 [==============================] - 0s 2ms/step - loss: 1.6437 - accuracy: 0.3644\n",
      "Nodes= 10, Epochs = 10,  softmax, tanh and sigmoid \n",
      "10/10 [==============================] - 0s 1ms/step - loss: 1.5450 - accuracy: 0.4140\n",
      "Nodes= 25, Epochs = 10,  softmax, tanh and sigmoid \n",
      "10/10 [==============================] - 0s 2ms/step - loss: 1.6023 - accuracy: 0.3851\n",
      "Nodes= 50, Epochs = 10,  softmax, tanh and sigmoid \n",
      "25/25 [==============================] - 0s 1ms/step - loss: 1.5358 - accuracy: 0.4038\n",
      "Nodes= 10, Epochs = 25,  softmax, tanh and sigmoid \n",
      "25/25 [==============================] - 0s 977us/step - loss: 1.4873 - accuracy: 0.4363\n",
      "Nodes= 25, Epochs = 25,  softmax, tanh and sigmoid \n",
      "25/25 [==============================] - 0s 1ms/step - loss: 1.4748 - accuracy: 0.4544\n",
      "Nodes= 50, Epochs = 25,  softmax, tanh and sigmoid \n",
      "50/50 [==============================] - 0s 799us/step - loss: 1.5010 - accuracy: 0.4423\n",
      "Nodes= 10, Epochs = 50,  softmax, tanh and sigmoid \n",
      "50/50 [==============================] - 0s 844us/step - loss: 1.4570 - accuracy: 0.4620\n",
      "Nodes= 25, Epochs = 50,  softmax, tanh and sigmoid \n",
      "50/50 [==============================] - 0s 956us/step - loss: 1.6411 - accuracy: 0.4108\n",
      "Nodes= 50, Epochs = 50,  softmax, tanh and sigmoid \n"
     ]
    }
   ],
   "source": [
    " # Hog\n",
    "for s in steps:\n",
    "    for i in nodes:\n",
    "        trainTestModel(X_train_hog, y_train, X_test_hog, y_test, s, i)\n",
    "        print(\"Nodes= %d, Epochs = %d,  softmax, tanh and sigmoid \" % (i,s))\n"
   ]
  },
  {
   "cell_type": "code",
   "execution_count": 166,
   "metadata": {},
   "outputs": [
    {
     "name": "stdout",
     "output_type": "stream",
     "text": [
      "10/10 [==============================] - 0s 7ms/step - loss: 2.0567 - accuracy: 0.2091\n",
      "Nodes= 10, Epochs = 10,  softmax, tanh and sigmoid \n",
      "10/10 [==============================] - 0s 12ms/step - loss: 2.0668 - accuracy: 0.1991\n",
      "Nodes= 25, Epochs = 10,  softmax, tanh and sigmoid \n",
      "10/10 [==============================] - 0s 11ms/step - loss: 2.1466 - accuracy: 0.2081\n",
      "Nodes= 50, Epochs = 10,  softmax, tanh and sigmoid \n",
      "25/25 [==============================] - 0s 3ms/step - loss: 2.3596 - accuracy: 0.1959\n",
      "Nodes= 10, Epochs = 25,  softmax, tanh and sigmoid \n",
      "25/25 [==============================] - 0s 4ms/step - loss: 3.3189 - accuracy: 0.1937\n",
      "Nodes= 25, Epochs = 25,  softmax, tanh and sigmoid \n",
      "25/25 [==============================] - 0s 5ms/step - loss: 3.7138 - accuracy: 0.2170\n",
      "Nodes= 50, Epochs = 25,  softmax, tanh and sigmoid \n",
      "50/50 [==============================] - 0s 2ms/step - loss: 3.8218 - accuracy: 0.2055\n",
      "Nodes= 10, Epochs = 50,  softmax, tanh and sigmoid \n",
      "50/50 [==============================] - 0s 2ms/step - loss: 4.3579 - accuracy: 0.2180\n",
      "Nodes= 25, Epochs = 50,  softmax, tanh and sigmoid \n",
      "50/50 [==============================] - 0s 5ms/step - loss: 4.9603 - accuracy: 0.2055\n",
      "Nodes= 50, Epochs = 50,  softmax, tanh and sigmoid \n"
     ]
    }
   ],
   "source": [
    " # LBP\n",
    "for s in steps:\n",
    "    for i in nodes:\n",
    "        trainTestModel(X_train_lbp, y_train, X_test_lbp, y_test, s, i)\n",
    "        print(\"Nodes= %d, Epochs = %d,  softmax, tanh and sigmoid \" % (i,s))\n"
   ]
  },
  {
   "cell_type": "code",
   "execution_count": null,
   "metadata": {},
   "outputs": [],
   "source": []
  }
 ],
 "metadata": {
  "kernelspec": {
   "display_name": "Python 3",
   "language": "python",
   "name": "python3"
  },
  "language_info": {
   "codemirror_mode": {
    "name": "ipython",
    "version": 3
   },
   "file_extension": ".py",
   "mimetype": "text/x-python",
   "name": "python",
   "nbconvert_exporter": "python",
   "pygments_lexer": "ipython3",
   "version": "3.7.0"
  }
 },
 "nbformat": 4,
 "nbformat_minor": 4
}
